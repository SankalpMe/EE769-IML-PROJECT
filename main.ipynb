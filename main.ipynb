{
 "cells": [
  {
   "cell_type": "code",
   "execution_count": 4,
   "metadata": {},
   "outputs": [],
   "source": [
    "import numpy as np"
   ]
  },
  {
   "cell_type": "markdown",
   "metadata": {},
   "source": [
    "##  Integral Image\n",
    "\n",
    "Computes rectangle integrals of an image for fast computation of Harr Filters."
   ]
  },
  {
   "cell_type": "code",
   "execution_count": 88,
   "metadata": {},
   "outputs": [],
   "source": [
    "import numpy as np\n",
    "\n",
    "def compute_intg_image(img):\n",
    "    # Create a matrix of zeros with the same dimensions as the input image\n",
    "    intg_img = np.zeros(img.shape, dtype=np.int64)\n",
    "    \n",
    "    # Iterate over each pixel in the input image\n",
    "    for i in range(img.shape[0]):\n",
    "        for j in range(img.shape[1]):\n",
    "            # Calculate the sum of all pixels above and to the left of the current pixel\n",
    "            if i > 0:\n",
    "                intg_img[i, j] += intg_img[i-1, j]\n",
    "            if j > 0:\n",
    "                intg_img[i, j] += intg_img[i, j-1]\n",
    "            if i > 0 and j > 0:\n",
    "                intg_img[i, j] -= intg_img[i-1, j-1]\n",
    "            \n",
    "            # Add the value of the current pixel to the integral image\n",
    "            intg_img[i, j] += img[i, j]\n",
    "    \n",
    "    # Return the computed integral image\n",
    "    return intg_img\n",
    "\n",
    "def get_rect(intg_img, si, sj, ei, ej):\n",
    "    # Calculate the sum of all pixels within the specified rectangular region\n",
    "    result = intg_img[ei, ej]\n",
    "    if si > 0:\n",
    "        result -= intg_img[si-1, ej]\n",
    "    if sj > 0:\n",
    "        result -= intg_img[ei, sj-1]\n",
    "    if si > 0 and sj > 0:\n",
    "        result += intg_img[si-1, sj-1]\n",
    "    \n",
    "    # Return the computed sum of pixels\n",
    "    return result"
   ]
  },
  {
   "cell_type": "code",
   "execution_count": 203,
   "metadata": {},
   "outputs": [
    {
     "name": "stdout",
     "output_type": "stream",
     "text": [
      "37.05\n"
     ]
    }
   ],
   "source": [
    "# (height, width), stride (y, x) [rect: pos start (i,j), rect pos end (i,j), wt]\n",
    "harr_filter_1 = [(20,40), (5, 5) ,[(0, 0, 9, 39, -1) , (10,0,19,39, 1)]]\n",
    "harr_filter_2 = [(40,10), (5, 5) ,[(0, 0, 39, 4, 1) , (0,5,39,9, -1)]]\n",
    "\n",
    "harr_filter_3 = [(24,40), (5, 5) ,[(0, 0, 7, 39, -0.5), (8, 0, 15, 39, 1), (16, 0, 23, 39, -0.5)]]\n",
    "\n",
    "harr_filter_4 = [(40,24), (5, 5) ,[(0, 0, 39, 7, -0.5), (0, 8, 39, 15, 1), (0, 16, 39, 23, -0.5)]]\n",
    "\n",
    "\n",
    "\n",
    "def run_filter(c_img , intg_img, filter):\n",
    "    result_img = np.zeros((intg_img.shape[0]//filter[1][0], intg_img.shape[1]//filter[1][1])) \n",
    "    \n",
    "    for i in range(0, intg_img.shape[0]-filter[0][0]+1, filter[1][0]):\n",
    "        for j in range(0, intg_img.shape[1]-filter[0][1]+1, filter[1][1]):\n",
    "            # r_img = c_img.copy()\n",
    "            if (i+filter[0][0]) < intg_img.shape[0] and (j + filter[0][1]) < intg_img.shape[1]:\n",
    "                result = 0\n",
    "                for rect_filter in filter[2]:\n",
    "                    # cv2.rectangle(r_img, (j+rect_filter[1],i+rect_filter[0]), (j+rect_filter[3],i+rect_filter[2]), (255,0,0), 1)\n",
    "                    result += (rect_filter[4] * get_rect(intg_img, i+rect_filter[0], j+rect_filter[1], i+rect_filter[2], j+rect_filter[3]) ) / ((rect_filter[2]-rect_filter[0]+1)*(rect_filter[3]-rect_filter[1]+1))\n",
    "                result_img[i//filter[1][0],  j//filter[1][1]] = result\n",
    "            \n",
    "       \n",
    "            \n",
    "     \n",
    "    return result_img\n",
    "fal_1 = run_filter(c_img, intg_img, harr_filter_4)\n",
    "print(fal_1.max())\n",
    "fal_1 = cv2.threshold(fal_1, 10, 255,cv2.THRESH_BINARY)[1]\n",
    "\n",
    "\n",
    "cv2.imshow(\"set\", fal_1)\n",
    "cv2.imshow(\"orig\",img)\n",
    "cv2.waitKey(0)\n",
    "cv2.destroyAllWindows()"
   ]
  },
  {
   "cell_type": "code",
   "execution_count": null,
   "metadata": {},
   "outputs": [],
   "source": [
    "def create_haar_filter(height, width, )"
   ]
  },
  {
   "cell_type": "code",
   "execution_count": 173,
   "metadata": {},
   "outputs": [
    {
     "data": {
      "text/plain": [
       "0"
      ]
     },
     "execution_count": 173,
     "metadata": {},
     "output_type": "execute_result"
    }
   ],
   "source": []
  },
  {
   "cell_type": "code",
   "execution_count": 103,
   "metadata": {},
   "outputs": [
    {
     "data": {
      "text/plain": [
       "115"
      ]
     },
     "execution_count": 103,
     "metadata": {},
     "output_type": "execute_result"
    }
   ],
   "source": []
  },
  {
   "cell_type": "code",
   "execution_count": 62,
   "metadata": {},
   "outputs": [
    {
     "ename": "AttributeError",
     "evalue": "module 'sklearn' has no attribute 'linear_model'",
     "output_type": "error",
     "traceback": [
      "\u001b[0;31m---------------------------------------------------------------------------\u001b[0m",
      "\u001b[0;31mAttributeError\u001b[0m                            Traceback (most recent call last)",
      "Cell \u001b[0;32mIn[62], line 2\u001b[0m\n\u001b[1;32m      1\u001b[0m \u001b[39mimport\u001b[39;00m \u001b[39msklearn\u001b[39;00m\n\u001b[0;32m----> 2\u001b[0m sklearn\u001b[39m.\u001b[39;49mlinear_model\u001b[39m.\u001b[39mPerceptron(penalty\u001b[39m=\u001b[39m\u001b[39m'\u001b[39m\u001b[39ml2\u001b[39m\u001b[39m'\u001b[39m)\n",
      "\u001b[0;31mAttributeError\u001b[0m: module 'sklearn' has no attribute 'linear_model'"
     ]
    }
   ],
   "source": [
    "import sklearn\n",
    "\n",
    "\n",
    "positive =0\n",
    "negative =0\n",
    "wt=np.zeros(img_list.shape)\n",
    "for i in range(img_list.shape):\n",
    "    if img_list[i]==1:\n",
    "        positive +=1\n",
    "    else:\n",
    "        negative +=1\n",
    "for i in range(img_list.shape):\n",
    "    if img_list[i]==1:\n",
    "        wt[i]=1/(2*positive)\n",
    "    else:\n",
    "        wt[i]=1/(2*negative)\n",
    "norm_wt=wt.copy()\n",
    "for i in range(img_list.shape):\n",
    "    norm_wt[i]=wt[i]/np.sum(wt)\n",
    "wt=norm_wt\n",
    "\n",
    "\n",
    "model=sklearn.linear_model.Perceptron(penalty='l2',alpha=0.01)\n",
    "max_iter=1000\n",
    "arg_min=np.zeros(max_iter,'uint16')\n",
    "beta=np.zeros(max_iter,'float')\n",
    "e=np.zeros(haar.shape[0])\n",
    "pred=np.zeros(haar.shape[0:2],'float')\n",
    "for iter in range(max_iter):\n",
    "    norm_wt=wt.copy()\n",
    "    for i in range(img_list.shape):\n",
    "        norm_wt[i]=wt[i]/np.sum(wt)\n",
    "    wt=norm_wt\n",
    "    for j in range(haar.shape[0]):\n",
    "        # for i in range(img_num):\n",
    "        model.fit_(harr_filter[j,:,i],img_out)\n",
    "        pred[j,:]=model.predict(harr_filter[:,j])\n",
    "        e[j]=np.dot(wt,np.abs(np.dot(pred[:,j],img_out)))\n",
    "    arg_min[iter]=np.argmin(e)\n",
    "    beta[iter]=e[arg_min]/(1-e[arg_min])\n",
    "    new_wt=wt.copy()\n",
    "    for i in range(img_num):\n",
    "        if(np.round(pred[i,arg_min[iter]],2)==img_out):\n",
    "            new_wt[i]=wt[i]*(beta[iter])\n",
    "    wt=new_wt\n",
    "sum=0\n",
    "for iter in range(max_iter):\n",
    "    model.fit()\n",
    "    sum+=np.log(beta[iter])*(-)\n",
    "    \n",
    "\n",
    "    "
   ]
  },
  {
   "cell_type": "code",
   "execution_count": 64,
   "metadata": {},
   "outputs": [],
   "source": [
    "img = np.ones((3,3))\n",
    "intg_img = compute_intg_image(img)"
   ]
  },
  {
   "cell_type": "code",
   "execution_count": null,
   "metadata": {},
   "outputs": [],
   "source": []
  },
  {
   "cell_type": "code",
   "execution_count": 67,
   "metadata": {},
   "outputs": [
    {
     "data": {
      "text/plain": [
       "6.0"
      ]
     },
     "execution_count": 67,
     "metadata": {},
     "output_type": "execute_result"
    }
   ],
   "source": [
    "get_rect(intg_img, 0,0, 2,1)"
   ]
  },
  {
   "cell_type": "code",
   "execution_count": null,
   "metadata": {},
   "outputs": [],
   "source": []
  }
 ],
 "metadata": {
  "kernelspec": {
   "display_name": "Python 3 (ipykernel)",
   "language": "python",
   "name": "python3"
  },
  "language_info": {
   "codemirror_mode": {
    "name": "ipython",
    "version": 3
   },
   "file_extension": ".py",
   "mimetype": "text/x-python",
   "name": "python",
   "nbconvert_exporter": "python",
   "pygments_lexer": "ipython3",
   "version": "3.10.6"
  }
 },
 "nbformat": 4,
 "nbformat_minor": 2
}
